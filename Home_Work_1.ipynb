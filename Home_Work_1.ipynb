{
 "cells": [
  {
   "cell_type": "markdown",
   "metadata": {},
   "source": [
    "**Домашнее задание к лекции \"Основы Python\"**"
   ]
  },
  {
   "cell_type": "markdown",
   "metadata": {},
   "source": [
    "**Задание 1**\n",
    "\n",
    "Даны 2 переменных, в которых хранятся строки произвольной длины: phrase_1 и phrase_2.\n",
    "Напишите код, который проверяет какая из этих строк длиннее."
   ]
  },
  {
   "cell_type": "code",
   "execution_count": 11,
   "metadata": {},
   "outputs": [
    {
     "name": "stdout",
     "output_type": "stream",
     "text": [
      "Фраза 1 длиннее фразы 2\n"
     ]
    }
   ],
   "source": [
    "phrase_1 = 'Насколько проще было бы писать программы, если бы не заказчики'\n",
    "phrase_2 = '640Кб должно хватить для любых задач. Билл Гейтс (по легенде)'\n",
    "\n",
    "if len(phrase_1) > len(phrase_2):\n",
    "    print(\"Фраза 1 длиннее фразы 2\")\n",
    "elif len(phrase_1) < len(phrase_2):\n",
    "    print(\"Фраза 2 длиннее фразы 1\")\n",
    "else:\n",
    "    print(\"Длины фраз равны\")"
   ]
  },
  {
   "cell_type": "code",
   "execution_count": 12,
   "metadata": {},
   "outputs": [
    {
     "name": "stdout",
     "output_type": "stream",
     "text": [
      "Фраза 2 длиннее фразы 1\n"
     ]
    }
   ],
   "source": [
    "phrase_1 = '640Кб должно хватить для любых задач. Билл Гейтс (по легенде)'\n",
    "phrase_2 = 'Насколько проще было бы писать программы, если бы не заказчики'\n",
    "\n",
    "if len(phrase_1) > len(phrase_2):\n",
    "    print(\"Фраза 1 длиннее фразы 2\")\n",
    "elif len(phrase_1) < len(phrase_2):\n",
    "    print(\"Фраза 2 длиннее фразы 1\")\n",
    "else:\n",
    "    print(\"Длины фраз равны\")"
   ]
  },
  {
   "cell_type": "code",
   "execution_count": 13,
   "metadata": {},
   "outputs": [
    {
     "name": "stdout",
     "output_type": "stream",
     "text": [
      "Длины фраз равны\n"
     ]
    }
   ],
   "source": [
    "phrase_1 = 'Насколько проще было бы писать программы, если бы не заказчики'\n",
    "phrase_2 = 'Насколько проще было бы писать программы, если бы не заказчики'\n",
    "\n",
    "if len(phrase_1) > len(phrase_2):\n",
    "    print(\"Фраза 1 длиннее фразы 2\")\n",
    "elif len(phrase_1) < len(phrase_2):\n",
    "    print(\"Фраза 2 длиннее фразы 1\")\n",
    "else:\n",
    "    print(\"Длины фраз равны\")"
   ]
  },
  {
   "cell_type": "markdown",
   "metadata": {},
   "source": [
    "**Задание 2**"
   ]
  },
  {
   "cell_type": "markdown",
   "metadata": {},
   "source": [
    "Дана переменная, в которой хранится четырехзначное число (год). Необходимо написать программу, которая выведет, является ли данный год високосным или обычным."
   ]
  },
  {
   "cell_type": "code",
   "execution_count": 15,
   "metadata": {},
   "outputs": [
    {
     "name": "stdout",
     "output_type": "stream",
     "text": [
      "Год високосный\n"
     ]
    }
   ],
   "source": [
    "year = 2020\n",
    "if ((year%4 == 0 and year%100 != 0) or (year%400 == 0)):\n",
    "    print(\"Год високосный\")\n",
    "else: \n",
    "    print(\"Год не високосный\")"
   ]
  },
  {
   "cell_type": "markdown",
   "metadata": {},
   "source": [
    "**Задание 3**\n",
    "\n",
    "Необходимо написать программу, которая будет запрашивать у пользователя месяц и дату рождения и выводить соответствующий знак зодиака."
   ]
  },
  {
   "cell_type": "code",
   "execution_count": 21,
   "metadata": {
    "scrolled": true
   },
   "outputs": [
    {
     "name": "stdout",
     "output_type": "stream",
     "text": [
      "Введите день: 9\n",
      "Введите месяц: октябрь\n",
      "Не правильная дата\n"
     ]
    }
   ],
   "source": [
    "##Месяц пишется по русски с большой буквы\n",
    "\n",
    "day = int(input('Введите день: '))\n",
    "month = str(input('Введите месяц: '))\n",
    "if (day>=21 and day<=31 and month==\"Март\") or( month==\"Апрель\" and day>=1 and day<=20):\n",
    "    print(\"Ваш знак зодиака: Овен\")\n",
    "elif (day>=21 and day<=30 and month==\"Апрель\") or( month==\"Май\" and day>=1 and day<=21):\n",
    "    print(\"Ваш знак зодиака: Телец\")\n",
    "elif (day>=22 and day<=31 and month==\"Май\") or( month==\"Июнь\" and day>=1 and day<=21):\n",
    "    print(\"Ваш знак зодиака: Близнецы\")\n",
    "elif (day>=22 and day<=30 and month==\"Июнь\") or( month==\"Июль\" and day>=1 and day<=22):\n",
    "    print(\"Ваш знак зодиака: Рак\")\n",
    "elif (day>=23 and day<=31 and month==\"Июль\") or( month==\"Август\" and day>=1 and day<=21):\n",
    "    print(\"Ваш знак зодиака: Лев\")\n",
    "elif (day>=22 and day<=31 and month==\"Август\") or( month==\"Сентябрь\" and day>=1 and day<=23):\n",
    "    print(\"Ваш знак зодиака: Дева\")\n",
    "elif (day>=24 and day<=30 and month==\"Сентябрь\") or( month==\"Октябрь\" and day>=1 and day<=23):\n",
    "    print(\"Ваш знак зодиака: Весы\")\n",
    "elif (day>=24 and day<=31 and month==\"Октябрь\") or( month==\"Ноябрь\" and day>=1 and day<=22):\n",
    "    print(\"Ваш знак зодиака: Скорпион\")\n",
    "elif (day>=23 and day<=30 and month==\"Ноябрь\") or( month==\"Декабрь\" and day>=1 and day<=22):\n",
    "    print(\"Ваш знак зодиака: Стрелец\")\n",
    "elif (day>=23 and day<=31 and month==\"Декабрь\") or( month==\"Январь\" and day>=1 and day<=20):\n",
    "    print(\"Ваш знак зодиака: Козерог\")\n",
    "elif (day>=21 and day<=31 and month==\"Январь\") or( month==\"Февраль\" and day>=1 and day<=19):\n",
    "    print(\"Ваш знак зодиака: Водолей\")\n",
    "elif (day>=20 and day<=29 and month==\"Февраль\") or( month==\"Март\" and day>=1 and day<=20):\n",
    "    print(\"Ваш знак зодиака: Рыбы\")\n",
    "else:\n",
    "    print(\"Не правильная дата\")"
   ]
  },
  {
   "cell_type": "markdown",
   "metadata": {},
   "source": [
    "**Задание 4**\n",
    "\n",
    "Вам нужно написать программу для подбора упаковок по размерам товара.\n",
    "\n",
    "если каждое из трех измерений менее 15 сантиметров, то выведите на экран “Коробка №1”;\n",
    "если хотя бы одно из измерений больше 15 сантиметров, но менее 50 сантиметров, то выводите “Коробка №2”;\n",
    "если длина товара больше 2 метров, то выводите “Упаковка для лыж”;\n",
    "во всех остальных случаях выводите “Стандартная коробка №3”"
   ]
  },
  {
   "cell_type": "code",
   "execution_count": 25,
   "metadata": {},
   "outputs": [
    {
     "name": "stdout",
     "output_type": "stream",
     "text": [
      "Упаковка для лыж\n"
     ]
    }
   ],
   "source": [
    "width = 10\n",
    "length = 205\n",
    "height = 5\n",
    "\n",
    "if (width<15 and length<15 and height <15):\n",
    "    print(\"Коробка №1\")\n",
    "elif (15<=width<50 or 15<=length<50 or 15<=height<50):\n",
    "    print(\"Коробка №2\")\n",
    "elif length>200:\n",
    "    print(\"Упаковка для лыж\")\n",
    "else:\n",
    "    print(\"Стандартная коробка №3\")"
   ]
  },
  {
   "cell_type": "markdown",
   "metadata": {},
   "source": [
    "**Задание 5**\n",
    "\n",
    "Дана переменная, в которой хранится шестизначное число (номер проездного билета). Напишите программу, которая будет определять, является ли данный билет “счастливым”. Билет считается счастливым, если сумма первых трех цифр совпадает с суммой последних трех цифр номера."
   ]
  },
  {
   "cell_type": "code",
   "execution_count": 34,
   "metadata": {},
   "outputs": [
    {
     "name": "stdout",
     "output_type": "stream",
     "text": [
      "Счастливый билет\n"
     ]
    },
    {
     "data": {
      "text/plain": [
       "(7, 2, 3, 7, 3, 2)"
      ]
     },
     "execution_count": 34,
     "metadata": {},
     "output_type": "execute_result"
    }
   ],
   "source": [
    "number = 723732\n",
    "num1= number//100000\n",
    "num2= (number - num1*100000)//10000\n",
    "num3= (number - num1*100000-num2*10000)//1000\n",
    "num4= (number - num1*100000-num2*10000-num3*1000)//100\n",
    "num5= (number - num1*100000-num2*10000-num3*1000-num4*100)//10\n",
    "num6= (number - num1*100000-num2*10000-num3*1000-num4*100-num5*10)\n",
    "\n",
    "if num1+num2+num3 == num4+num5+num6:\n",
    "    print(\"Счастливый билет\")\n",
    "else:\n",
    "    print(\"Билет обычный\")"
   ]
  },
  {
   "cell_type": "markdown",
   "metadata": {},
   "source": [
    "**Задание 6**\n",
    "\n",
    "Напишите программу, которая сможет вычислять площади трех фигур (круг, треугольник и прямоугольник). Тип фигуры запрашиваем через пользовательский ввод, после чего делаем запрос характеристик фигуры:\n",
    "если пользователь выбрал круг, запрашиваем его радиус,\n",
    "если треугольник – длины трех его сторон;\n",
    "если прямоугольник – длины двух его сторон."
   ]
  },
  {
   "cell_type": "code",
   "execution_count": 42,
   "metadata": {},
   "outputs": [
    {
     "name": "stdout",
     "output_type": "stream",
     "text": [
      "Введите тип фигуры: Прямоугольник\n",
      "Введите длину стороны A:3\n",
      "Введите длину стороны B:5\n",
      "Площадь прямоугольника: 15\n"
     ]
    }
   ],
   "source": [
    "form = str(input('Введите тип фигуры: '))\n",
    "if form ==\"Круг\":\n",
    "    radius=int(input('Введите радиус: '))\n",
    "    S=3.141592*radius**2\n",
    "    print('Площадь круга:', S)\n",
    "elif form == \"Треугольник\":\n",
    "    A=int(input('Введите длину стороны A:'))\n",
    "    B=int(input('Введите длину стороны B:'))\n",
    "    C=int(input('Введите длину стороны C:'))\n",
    "    P= (A+B+C)/2\n",
    "    S= (P*(P-A)*(P-B)*(P-C))**0.5\n",
    "    print('Площадь треугольника:', S)\n",
    "elif form == \"Прямоугольник\":\n",
    "    A=int(input('Введите длину стороны A:'))\n",
    "    B=int(input('Введите длину стороны B:'))\n",
    "    S=A*B\n",
    "    print('Площадь прямоугольника:', S)\n",
    "else:\n",
    "    print(\"Я знаю только круг, треугольник и прямоугольник\")"
   ]
  }
 ],
 "metadata": {
  "kernelspec": {
   "display_name": "Python 3",
   "language": "python",
   "name": "python3"
  },
  "language_info": {
   "codemirror_mode": {
    "name": "ipython",
    "version": 3
   },
   "file_extension": ".py",
   "mimetype": "text/x-python",
   "name": "python",
   "nbconvert_exporter": "python",
   "pygments_lexer": "ipython3",
   "version": "3.8.4rc1"
  }
 },
 "nbformat": 4,
 "nbformat_minor": 2
}
