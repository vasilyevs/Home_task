{
 "cells": [
  {
   "cell_type": "markdown",
   "metadata": {},
   "source": [
    "# Домашнее задание к лекции \"Функции\""
   ]
  },
  {
   "cell_type": "markdown",
   "metadata": {},
   "source": [
    "Вам нужно помочь секретарю автоматизировать работу. Для этого нужно написать программу, которая будет на основе хранимых данных исполнять пользовательские команды.\n",
    "\n",
    "Исходные данные имеют следующую структуру:\n",
    "\n",
    "1. перечень всех документов\n",
    "```\n",
    "documents = [\n",
    "    {'type': 'passport', 'number': '2207 876234', 'name': 'Василий Гупкин'},\n",
    "    {'type': 'invoice', 'number': '11-2', 'name': 'Геннадий Покемонов'},\n",
    "    {'type': 'insurance', 'number': '10006', 'name': 'Аристарх Павлов'}\n",
    "]\n",
    "```\n",
    "2. перечень полок, на которых хранятся документы (если документ есть в documents, то он обязательно должен быть и в directories)\n",
    "```\n",
    "directories = {\n",
    "    '1': ['2207 876234', '11-2'],\n",
    "    '2': ['10006'],\n",
    "    '3': []\n",
    "}\n",
    "```\n",
    "\n",
    "Общие требования к программе:\n",
    "- код должен быть грамотно декомпозирован (каждая функция отвечает за свою конкретную задачу, дублирующийся функционал переиспользуется, а его код не повторяется);\n",
    "- в коде отсутствуют глобальные переменные (за исключением **documents** и **directories**);\n",
    "- пользовательский ввод обрабатывается в цикле **while** до тех пор, пока пользователь явно не завершит программу (вводом команды \"**q**\")."
   ]
  },
  {
   "cell_type": "markdown",
   "metadata": {},
   "source": [
    "## Задание 1\n",
    "\n",
    "### Пункт 1. Пользователь по команде \"*p*\" может узнать владельца документа по его номеру\n",
    "\n",
    "Примеры работы:\n",
    "\n",
    "1.\n",
    "\n",
    "```\n",
    "Введите команду:\n",
    "p\n",
    "\n",
    "Введите номер документа:\n",
    "10006\n",
    "```\n",
    "Результат:  \n",
    "`Владелец документа: Аристарх Павлов`\n",
    "\n",
    "2.\n",
    "```\n",
    "Введите команду:\n",
    "p\n",
    "\n",
    "Введите номер документа:\n",
    "12345\n",
    "```\n",
    "Результат:  \n",
    "`Документ не найден в базе`\n",
    "\n",
    "### Пункт 2. Пользователь по команде \"*s*\" может по номеру документа узнать на какой полке он хранится\n",
    "\n",
    "Примеры работы:\n",
    "\n",
    "1.\n",
    "\n",
    "```\n",
    "Введите команду:\n",
    "s\n",
    "\n",
    "Введите номер документа:\n",
    "10006\n",
    "```\n",
    "Результат:  \n",
    "`Документ хранится на полке: 2`\n",
    "\n",
    "2.\n",
    "```\n",
    "Введите команду:\n",
    "p\n",
    "\n",
    "Введите номер документа:\n",
    "12345\n",
    "```\n",
    "Результат:  \n",
    "`Документ не найден в базе`\n",
    "\n",
    "### Пункт 3. Пользователь по команде \"*l*\" может увидеть полную информацию по всем документам\n",
    "\n",
    "Пример работы:\n",
    "\n",
    "```\n",
    "Введите команду:\n",
    "l\n",
    "```\n",
    "\n",
    "Результат:  \n",
    "```\n",
    "№: 2207 876234, тип: passport, владелец: Василий Гупкин, полка хранения: 1\n",
    "№: 11-2, тип: invoice, владелец: Геннадий Покемонов, полка хранения: 1\n",
    "№: 10006, тип: insurance, владелец: Аристарх Павлов, полка хранения: 2\n",
    "```\n",
    "\n",
    "### Пункт 4. Пользователь по команде \"*ads*\" может добавить новую полку\n",
    "\n",
    "Примеры работы:\n",
    "\n",
    "1.\n",
    "\n",
    "```\n",
    "Введите команду:\n",
    "ads\n",
    "\n",
    "Введите номер полки:\n",
    "10\n",
    "```\n",
    "Результат:  \n",
    "`Полка добавлена. Текущий перечень полок: 1, 2, 3, 10.`\n",
    "\n",
    "2.\n",
    "```\n",
    "Введите команду:\n",
    "ads\n",
    "\n",
    "Введите номер полки:\n",
    "1\n",
    "```\n",
    "Результат:  \n",
    "`Такая полка уже существует. Текущий перечень полок: 1, 2, 3.`\n",
    "\n",
    "### Пункт 5. Пользователь по команде \"*ds*\" может удалить существующую полку из данных (только если она пустая)\n",
    "\n",
    "Примеры работы:\n",
    "\n",
    "1.\n",
    "\n",
    "```\n",
    "Введите команду:\n",
    "ds\n",
    "\n",
    "Введите номер полки:\n",
    "3\n",
    "```\n",
    "Результат:  \n",
    "`Полка удалена. Текущий перечень полок: 1, 2.`\n",
    "\n",
    "2.\n",
    "```\n",
    "Введите команду:\n",
    "ds\n",
    "\n",
    "Введите номер полки:\n",
    "1\n",
    "```\n",
    "Результат:  \n",
    "`На полке есть документа, удалите их перед удалением полки. Текущий перечень полок: 1, 2, 3.`\n",
    "\n",
    "3.\n",
    "```\n",
    "Введите команду:\n",
    "ds\n",
    "\n",
    "Введите номер полки:\n",
    "4\n",
    "```\n",
    "Результат:  \n",
    "`Такой полки не существует. Текущий перечень полок: 1, 2, 3.`"
   ]
  },
  {
   "cell_type": "code",
   "execution_count": 295,
   "metadata": {},
   "outputs": [],
   "source": [
    "documents = [\n",
    " {'type': 'passport', 'number': '2207 876234', 'name': 'Василий Гупкин'},\n",
    " {'type': 'invoice', 'number': '11-2', 'name': 'Геннадий Покемонов'},\n",
    " {'type': 'insurance', 'number': '10006', 'name': 'Аристарх Павлов'}\n",
    "]\n",
    "directories = {\n",
    " '1': ['2207 876234', '11-2'],\n",
    " '2': ['10006'],\n",
    " '3': []\n",
    "}"
   ]
  },
  {
   "cell_type": "code",
   "execution_count": 220,
   "metadata": {},
   "outputs": [],
   "source": [
    "def owner(documents):\n",
    "    number = str(input('Введите номер документа: '))\n",
    "    owner = ''\n",
    "    for line in documents:\n",
    "        if line['number'] == number:\n",
    "            owner = line['name']\n",
    "    if owner == '':\n",
    "        owner = 'Документ не найден'  \n",
    "    return owner"
   ]
  },
  {
   "cell_type": "code",
   "execution_count": 221,
   "metadata": {},
   "outputs": [
    {
     "name": "stdout",
     "output_type": "stream",
     "text": [
      "Введите номер документа: 11-2\n"
     ]
    },
    {
     "data": {
      "text/plain": [
       "'Геннадий Покемонов'"
      ]
     },
     "execution_count": 221,
     "metadata": {},
     "output_type": "execute_result"
    }
   ],
   "source": [
    "owner(documents)"
   ]
  },
  {
   "cell_type": "code",
   "execution_count": 222,
   "metadata": {},
   "outputs": [],
   "source": [
    "def location(number, directories):\n",
    "    location = ''\n",
    "    for key, value in directories.items():\n",
    "        if number in value:\n",
    "            location = key\n",
    "    if location == '':\n",
    "        location = 'Документ не найден в базе'\n",
    "    return location"
   ]
  },
  {
   "cell_type": "code",
   "execution_count": 225,
   "metadata": {},
   "outputs": [],
   "source": [
    "def full_info(documents, directories):\n",
    "    for line in documents:\n",
    "        print(  '№:', line['number'],\\\n",
    "                ', тип:', line['type'],\\\n",
    "                ', владелец: ',line['name'],\\\n",
    "                'полка хранения: ', location(line['number'], directories)\n",
    "             )"
   ]
  },
  {
   "cell_type": "code",
   "execution_count": 226,
   "metadata": {
    "scrolled": true
   },
   "outputs": [
    {
     "name": "stdout",
     "output_type": "stream",
     "text": [
      "№: 2207 876234 , тип: passport , владелец:  Василий Гупкин полка хранения:  1\n",
      "№: 11-2 , тип: invoice , владелец:  Геннадий Покемонов полка хранения:  1\n",
      "№: 10006 , тип: insurance , владелец:  Аристарх Павлов полка хранения:  2\n"
     ]
    }
   ],
   "source": [
    "full_info(documents, directories)"
   ]
  },
  {
   "cell_type": "code",
   "execution_count": 227,
   "metadata": {},
   "outputs": [],
   "source": [
    "def shelf(shelf, directories):\n",
    "    if shelf in directories.keys():\n",
    "        print('Такая полка уже существует. Текущий перечень полок: ', list(directories.keys()))\n",
    "    else:\n",
    "        directories[shelf]=[]\n",
    "        print('Полка добавлена. Текущий перечень полок: ', list(directories.keys()))"
   ]
  },
  {
   "cell_type": "code",
   "execution_count": 228,
   "metadata": {},
   "outputs": [],
   "source": [
    "def remove(directories):\n",
    "    number = input('Введите номер полки: ')\n",
    "    if number not in directories:\n",
    "        print('Такой полки не существует. Текущий перечень полок:', list(directories.keys()))\n",
    "    elif directories[number] == []:\n",
    "        del(directories[number])\n",
    "        print('Полка удалена. Текущий перечень полок:', list(directories.keys()))\n",
    "    elif directories[number] != []:\n",
    "        print('На полке есть документы, удалите их перед удалением полки. Текущий перечень полок:', list(directories.keys()))"
   ]
  },
  {
   "cell_type": "code",
   "execution_count": 229,
   "metadata": {},
   "outputs": [],
   "source": [
    "def main(documents, directories):\n",
    "    while True:\n",
    "        comand = input('Введите команду: ')\n",
    "        if comand == 'p':\n",
    "            print(owner(documents))\n",
    "        elif comand == 's':\n",
    "            print(location(str(input('Введите номер документа: '))), directories)\n",
    "        elif comand == 'l':\n",
    "            print(full_info(documents, directories))\n",
    "        elif comand == 'ads':\n",
    "            print(shelf(str(input('Введите номер полки: '))), directories)\n",
    "        elif comand == 'ds':\n",
    "            print(remove(directories))\n",
    "        elif comand == 'q':\n",
    "            break\n",
    "        else:\n",
    "            print('Такой команды нет')"
   ]
  },
  {
   "cell_type": "code",
   "execution_count": 131,
   "metadata": {},
   "outputs": [
    {
     "name": "stdout",
     "output_type": "stream",
     "text": [
      "Введите команду: l\n",
      "№: 2207 876234 , тип: passport , владелец:  Василий Гупкин полка хранения:  1\n",
      "№: 11-2 , тип: invoice , владелец:  Геннадий Покемонов полка хранения:  1\n",
      "№: 10006 , тип: insurance , владелец:  Аристарх Павлов полка хранения:  2\n",
      "None\n",
      "Введите команду: d\n",
      "Такой команды нет\n",
      "Введите команду: q\n"
     ]
    }
   ],
   "source": [
    "main(documents, directories)"
   ]
  },
  {
   "cell_type": "markdown",
   "metadata": {},
   "source": [
    "## Задание 2 (необязательное)\n",
    "\n",
    "Вам необходимо дополнить программу из задания 1 более продвинутыми командами.\n",
    "\n",
    "### Пункт 1. Пользователь по команде \"*ad*\" может добавить новый документ в данные\n",
    "\n",
    "Примеры работы:\n",
    "\n",
    "1.\n",
    "\n",
    "```\n",
    "Введите команду:\n",
    "ad\n",
    "\n",
    "Введите номер документа:\n",
    "42\n",
    "Введите тип документа:\n",
    "multipassport\n",
    "Введите владельца документа:\n",
    "R2D2\n",
    "Введите полку для хранения:\n",
    "3\n",
    "```\n",
    "Результат:  \n",
    "```\n",
    "Документ добавлен. Текущий список документов:\n",
    "№: 2207 876234, тип: passport, владелец: Василий Гупкин, полка хранения: 1\n",
    "№: 11-2, тип: invoice, владелец: Геннадий Покемонов, полка хранения: 1\n",
    "№: 10006, тип: insurance, владелец: Аристарх Павлов, полка хранения: 2\n",
    "№: 42, тип: multipassport, владелец: R2D2, полка хранения: 3\n",
    "```\n",
    "\n",
    "2.\n",
    "```\n",
    "Введите команду:\n",
    "ad\n",
    "\n",
    "Введите номер документа:\n",
    "42\n",
    "Введите тип документа:\n",
    "multipassport\n",
    "Введите владельца документа:\n",
    "R2D2\n",
    "Введите полку для хранения:\n",
    "4\n",
    "```\n",
    "Результат:  \n",
    "```\n",
    "Такой полки не существует. Добавьте полку командой as. \n",
    "Текущий список документов:\n",
    "№: 2207 876234, тип: passport, владелец: Василий Гупкин, полка хранения: 1\n",
    "№: 11-2, тип: invoice, владелец: Геннадий Покемонов, полка хранения: 1\n",
    "№: 10006, тип: insurance, владелец: Аристарх Павлов, полка хранения: 2\n",
    "```\n",
    "\n",
    "### Пункт 2. Пользователь по команде \"*d*\" может удалить документ из данных\n",
    "\n",
    "Примеры работы:\n",
    "\n",
    "1.\n",
    "\n",
    "```\n",
    "Введите команду:\n",
    "d\n",
    "\n",
    "Введите номер документа:\n",
    "10006\n",
    "```\n",
    "Результат:  \n",
    "```\n",
    "Документ удален. \n",
    "Текущий список документов:\n",
    "№: 2207 876234, тип: passport, владелец: Василий Гупкин, полка хранения: 1\n",
    "№: 11-2, тип: invoice, владелец: Геннадий Покемонов, полка хранения: 1\n",
    "```\n",
    "\n",
    "2.\n",
    "```\n",
    "Введите команду:\n",
    "d\n",
    "\n",
    "Введите номер документа:\n",
    "123456\n",
    "```\n",
    "Результат:  \n",
    "```\n",
    "Документ не найден в базе. \n",
    "Текущий список документов:\n",
    "№: 2207 876234, тип: passport, владелец: Василий Гупкин, полка хранения: 1\n",
    "№: 11-2, тип: invoice, владелец: Геннадий Покемонов, полка хранения: 1\n",
    "№: 10006, тип: insurance, владелец: Аристарх Павлов, полка хранения: 2\n",
    "```\n",
    "\n",
    "### Пункт 3. Пользователь по команде \"*m*\" может переместить документ с полки на полку\n",
    "\n",
    "Примеры работы:\n",
    "\n",
    "1.\n",
    "\n",
    "```\n",
    "Введите команду:\n",
    "m\n",
    "\n",
    "Введите номер документа:\n",
    "11-2\n",
    "Введите номер полки:\n",
    "3\n",
    "```\n",
    "Результат:  \n",
    "```\n",
    "Документ перемещен. \n",
    "Текущий список документов:\n",
    "№: 2207 876234, тип: passport, владелец: Василий Гупкин, полка хранения: 1\n",
    "№: 11-2, тип: invoice, владелец: Геннадий Покемонов, полка хранения: 3\n",
    "№: 10006, тип: insurance, владелец: Аристарх Павлов, полка хранения: 2\n",
    "```\n",
    "\n",
    "2.\n",
    "```\n",
    "Введите команду:\n",
    "m\n",
    "\n",
    "Введите номер документа:\n",
    "11-2\n",
    "Введите номер полки:\n",
    "10\n",
    "```\n",
    "Результат:  \n",
    "`Такой полки не существует. Текущий перечень полок: 1, 2, 3.`\n",
    "\n",
    "3.\n",
    "```\n",
    "Введите команду:\n",
    "m\n",
    "\n",
    "Введите номер документа:\n",
    "42\n",
    "Введите номер полки:\n",
    "2\n",
    "```\n",
    "Результат:  \n",
    "```\n",
    "Документ не найден в базе. \n",
    "Текущий список документов:\n",
    "№: 2207 876234, тип: passport, владелец: Василий Гупкин, полка хранения: 1\n",
    "№: 11-2, тип: invoice, владелец: Геннадий Покемонов, полка хранения: 1\n",
    "№: 10006, тип: insurance, владелец: Аристарх Павлов, полка хранения: 2\n",
    "```"
   ]
  },
  {
   "cell_type": "code",
   "execution_count": 230,
   "metadata": {
    "scrolled": true
   },
   "outputs": [],
   "source": [
    "def add_doc(documents, directories):\n",
    "    doc_number = input('Введите номер документа: ')\n",
    "    doc_type = input('Введите тип документа: ')\n",
    "    owner = input('Введите владельца документа: ')\n",
    "    shelf_num = input('Введите полку для хранения документа: ')\n",
    "    if shelf_num not in directories.keys():\n",
    "        print('Такой полки не существует. Добавьте полку командой ads.')\n",
    "        print(full_info())\n",
    "    else:\n",
    "        documents.append({'type': doc_type, 'number': doc_number, 'name': owner})\n",
    "        directories[shelf_num].append(doc_number)"
   ]
  },
  {
   "cell_type": "code",
   "execution_count": 261,
   "metadata": {},
   "outputs": [],
   "source": [
    "def remove_doc(documents, directories):\n",
    "    number = input('Введите номер документа: ')\n",
    "    exist = 0\n",
    "    for line in documents:\n",
    "        if number in line.values():\n",
    "            #line.clear()\n",
    "            exist = 1\n",
    "            break\n",
    "        else:\n",
    "            exist = 0\n",
    "            #print('Документ не найден в базе.')\n",
    "            #print('Текущий перечень документов:')\n",
    "            #print(full_info(documents, directories))\n",
    "    if exist == 0:\n",
    "        print('Документ не найден в базе.')\n",
    "        print('Текущий перечень документов:')\n",
    "        print(full_info(documents, directories))\n",
    "    else:\n",
    "        documents.remove(line)\n",
    "        print('Документ удален.')\n",
    "        print('Текущий перечень документов:')\n",
    "        print(full_info(documents, directories))"
   ]
  },
  {
   "cell_type": "code",
   "execution_count": 260,
   "metadata": {
    "scrolled": true
   },
   "outputs": [
    {
     "name": "stdout",
     "output_type": "stream",
     "text": [
      "Введите номер документа: 11-2\n",
      "Документ не найден в базе.\n",
      "Текущий перечень документов:\n",
      "№: 2207 876234 , тип: passport , владелец:  Василий Гупкин полка хранения:  1\n",
      "№: 10006 , тип: insurance , владелец:  Аристарх Павлов полка хранения:  2\n",
      "None\n"
     ]
    }
   ],
   "source": [
    "remove_doc()"
   ]
  },
  {
   "cell_type": "code",
   "execution_count": 300,
   "metadata": {},
   "outputs": [
    {
     "name": "stdout",
     "output_type": "stream",
     "text": [
      "Введите номер документа: 11-2\n",
      "Введите номер полки: 3\n",
      "Документ перемещен.\n",
      "Текущий перечень документов:\n",
      "№: 2207 876234 , тип: passport , владелец:  Василий Гупкин полка хранения:  1\n",
      "№: 11-2 , тип: invoice , владелец:  Геннадий Покемонов полка хранения:  3\n",
      "№: 10006 , тип: insurance , владелец:  Аристарх Павлов полка хранения:  2\n",
      "None\n"
     ]
    }
   ],
   "source": [
    "def doc_moove(directories, documents):\n",
    "    doc_number = input('Введите номер документа: ')\n",
    "    shelf_number = input('Введите номер полки: ')\n",
    "    if shelf_number not in directories.keys():\n",
    "        print('Такой полки не существует. Текущий перечень полок:', list(directories.keys()))\n",
    "    for line in documents:\n",
    "        if doc_number in line.values():\n",
    "            exist = 1\n",
    "            break\n",
    "        else:\n",
    "            exist = 0\n",
    "    if exist == 1:\n",
    "        old_shelf = location(doc_number, directories)\n",
    "        directories[shelf_number].append(doc_number)\n",
    "        directories[old_shelf].remove(doc_number)\n",
    "        print('Документ перемещен.')\n",
    "        print('Текущий перечень документов:')\n",
    "        print(full_info(documents, directories))\n",
    "    else:\n",
    "        print('Документ не найден.')\n",
    "        print('Текущий перечень документов:')\n",
    "        print(full_info(documents, directories))"
   ]
  },
  {
   "cell_type": "code",
   "execution_count": 301,
   "metadata": {},
   "outputs": [
    {
     "data": {
      "text/plain": [
       "dict_items([('1', ['2207 876234']), ('2', ['10006']), ('3', ['11-2'])])"
      ]
     },
     "execution_count": 301,
     "metadata": {},
     "output_type": "execute_result"
    }
   ],
   "source": [
    "directories.items()"
   ]
  },
  {
   "cell_type": "code",
   "execution_count": 303,
   "metadata": {},
   "outputs": [],
   "source": [
    "def main_dop(documents, directories):\n",
    "    \"\"\"\n",
    "    описание функции\n",
    "    \"\"\"\n",
    "    while True:\n",
    "        comand = input('Введите команду: ')\n",
    "        if comand == 'p':\n",
    "            print(owner(documents))\n",
    "        elif comand == 's':\n",
    "            print(location(str(input('Введите номер документа: '))), directories)\n",
    "        elif comand == 'l':\n",
    "            print(full_info(documents, directories))\n",
    "        elif comand == 'ads':\n",
    "            print(shelf(str(input('Введите номер полки: '))), directories)\n",
    "        elif comand == 'ds':\n",
    "            print(remove(directories))\n",
    "        elif comand == 'q':\n",
    "            break\n",
    "        elif comand == 'ad':\n",
    "            print(add_doc(documents, directories))\n",
    "        elif comand == 'd':\n",
    "            print(remove_doc(documents, directories))\n",
    "        elif comand == 'm':\n",
    "            print(doc_moove(directories, documents))\n",
    "        else:\n",
    "            print('Такой команды нет')"
   ]
  },
  {
   "cell_type": "code",
   "execution_count": 305,
   "metadata": {},
   "outputs": [
    {
     "name": "stdout",
     "output_type": "stream",
     "text": [
      "Object `main_dop(documents, directories)` not found.\n"
     ]
    }
   ],
   "source": [
    "?main_dop(documents, directories)"
   ]
  },
  {
   "cell_type": "markdown",
   "metadata": {},
   "source": [
    "#### ПРИМЕЧАНИЕ\n",
    "Домашнее задание сдается ссылкой на репозиторий [GitHub](https://github.com/).\n",
    "Не сможем проверить или помочь, если вы пришлете:\n",
    "- файлы;\n",
    "- архивы;\n",
    "- скриншоты кода.\n",
    "\n",
    "Все обсуждения и консультации по выполнению домашнего задания ведутся только на соответствующем канале в slack.\n",
    "\n",
    "##### Как правильно задавать вопросы аспирантам, преподавателям и коллегам\n",
    "Прежде чем задать вопрос, попробуйте найти ответ в интернете. Навык самостоятельного поиска информации — один из важнейших. Каждый практикующий специалист любого уровня делает это ежедневно.\n",
    "\n",
    "Сформулируйте вопрос по алгоритму:  \n",
    "1) Что я делаю?  \n",
    "2) Какого результата я ожидаю?  \n",
    "3) Как фактический результат отличается от ожидаемого?  \n",
    "4) Что я уже попробовал сделать, чтобы исправить проблему?  \n",
    "\n",
    "По возможности прикрепите к вопросу скриншоты либо ссылки на код. Не выкладывайте все решение, оставляйте только проблемный и воспроизводимый участок кода."
   ]
  }
 ],
 "metadata": {
  "kernelspec": {
   "display_name": "Python 3",
   "language": "python",
   "name": "python3"
  },
  "language_info": {
   "codemirror_mode": {
    "name": "ipython",
    "version": 3
   },
   "file_extension": ".py",
   "mimetype": "text/x-python",
   "name": "python",
   "nbconvert_exporter": "python",
   "pygments_lexer": "ipython3",
   "version": "3.8.4rc1"
  }
 },
 "nbformat": 4,
 "nbformat_minor": 2
}
